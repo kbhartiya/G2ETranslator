{
 "cells": [
  {
   "cell_type": "code",
   "execution_count": 1,
   "metadata": {},
   "outputs": [
    {
     "name": "stderr",
     "output_type": "stream",
     "text": [
      "Using TensorFlow backend.\n"
     ]
    }
   ],
   "source": [
    "import string\n",
    "import re\n",
    "from numpy import array, argmax, random, take\n",
    "import pandas as pd\n",
    "from keras.models import Sequential\n",
    "from keras.layers import Dense, LSTM, Embedding, RepeatVector\n",
    "from keras.preprocessing.text import Tokenizer\n",
    "from keras.callbacks import ModelCheckpoint\n",
    "from keras.preprocessing.sequence import pad_sequences\n",
    "from keras.models import load_model\n",
    "from keras import optimizers\n",
    "import matplotlib.pyplot as plt\n",
    "%matplotlib inline\n",
    "pd.set_option('display.max_colwidth', 200)"
   ]
  },
  {
   "cell_type": "code",
   "execution_count": 2,
   "metadata": {},
   "outputs": [],
   "source": [
    "def read_text(filename):\n",
    "        # open the file\n",
    "        file = open(filename, mode='rt', encoding='utf-8')\n",
    "        \n",
    "        # read all text\n",
    "        text = file.read()\n",
    "        file.close()\n",
    "        return text"
   ]
  },
  {
   "cell_type": "code",
   "execution_count": 3,
   "metadata": {},
   "outputs": [],
   "source": [
    "def to_lines(text):\n",
    "      sents = text.strip().split('\\n')\n",
    "      sents = [i.split('\\t') for i in sents]\n",
    "      return sents"
   ]
  },
  {
   "cell_type": "code",
   "execution_count": 4,
   "metadata": {},
   "outputs": [],
   "source": [
    "data = read_text(\"deu.txt\")\n",
    "deu_eng = to_lines(data)\n",
    "deu_eng = array(deu_eng)"
   ]
  },
  {
   "cell_type": "code",
   "execution_count": 20,
   "metadata": {},
   "outputs": [],
   "source": [
    "deu_eng = deu_eng[:5000,:]"
   ]
  },
  {
   "cell_type": "code",
   "execution_count": 6,
   "metadata": {},
   "outputs": [
    {
     "data": {
      "text/plain": [
       "array([['Hi.', 'Hallo!'],\n",
       "       ['Hi.', 'Grüß Gott!'],\n",
       "       ['Run!', 'Lauf!'],\n",
       "       ...,\n",
       "       ['Tom is a poet.', 'Tom ist ein Poet.'],\n",
       "       ['Tom is a slob.', 'Tom ist ein Chaot.'],\n",
       "       ['Tom is a wimp.', 'Tom ist ein Weichei.']], dtype='<U380')"
      ]
     },
     "execution_count": 6,
     "metadata": {},
     "output_type": "execute_result"
    }
   ],
   "source": [
    "deu_eng"
   ]
  },
  {
   "cell_type": "code",
   "execution_count": 7,
   "metadata": {},
   "outputs": [
    {
     "data": {
      "text/plain": [
       "array([['Hi', 'Hallo'],\n",
       "       ['Hi', 'Grüß Gott'],\n",
       "       ['Run', 'Lauf'],\n",
       "       ...,\n",
       "       ['Tom is a poet', 'Tom ist ein Poet'],\n",
       "       ['Tom is a slob', 'Tom ist ein Chaot'],\n",
       "       ['Tom is a wimp', 'Tom ist ein Weichei']], dtype='<U380')"
      ]
     },
     "execution_count": 7,
     "metadata": {},
     "output_type": "execute_result"
    }
   ],
   "source": [
    "deu_eng[:,0] = [s.translate(str.maketrans('', '', string.punctuation)) for s in deu_eng[:,0]]\n",
    "deu_eng[:,1] = [s.translate(str.maketrans('', '', string.punctuation)) for s in deu_eng[:,1]]\n",
    "\n",
    "deu_eng"
   ]
  },
  {
   "cell_type": "code",
   "execution_count": 8,
   "metadata": {},
   "outputs": [
    {
     "data": {
      "text/plain": [
       "array([['hi', 'hallo'],\n",
       "       ['hi', 'grüß gott'],\n",
       "       ['run', 'lauf'],\n",
       "       ...,\n",
       "       ['tom is a poet', 'tom ist ein poet'],\n",
       "       ['tom is a slob', 'tom ist ein chaot'],\n",
       "       ['tom is a wimp', 'tom ist ein weichei']], dtype='<U380')"
      ]
     },
     "execution_count": 8,
     "metadata": {},
     "output_type": "execute_result"
    }
   ],
   "source": [
    "for i in range(len(deu_eng)):\n",
    "    deu_eng[i,0] = deu_eng[i,0].lower()\n",
    "    deu_eng[i,1] = deu_eng[i,1].lower()\n",
    "\n",
    "deu_eng"
   ]
  },
  {
   "cell_type": "code",
   "execution_count": 9,
   "metadata": {},
   "outputs": [
    {
     "data": {
      "image/png": "[encoded data removed]",
      "text/plain": [
       "<Figure size 432x288 with 2 Axes>"
      ]
     },
     "metadata": {
      "needs_background": "light"
     },
     "output_type": "display_data"
    }
   ],
   "source": [
    "eng_l = []\n",
    "deu_l = []\n",
    "\n",
    "# populate the lists with sentence lengths\n",
    "for i in deu_eng[:,0]:\n",
    "      eng_l.append(len(i.split()))\n",
    "\n",
    "for i in deu_eng[:,1]:\n",
    "      deu_l.append(len(i.split()))\n",
    "\n",
    "length_df = pd.DataFrame({'eng':eng_l, 'deu':deu_l})\n",
    "\n",
    "length_df.hist(bins = 30)\n",
    "plt.show()"
   ]
  },
  {
   "cell_type": "code",
   "execution_count": 10,
   "metadata": {},
   "outputs": [],
   "source": [
    "def tokenization(lines):\n",
    "      tokenizer = Tokenizer()\n",
    "      tokenizer.fit_on_texts(lines)\n",
    "      return tokenizer"
   ]
  },
  {
   "cell_type": "code",
   "execution_count": 11,
   "metadata": {},
   "outputs": [
    {
     "name": "stdout",
     "output_type": "stream",
     "text": [
      "English Vocabulary Size: 1391\n"
     ]
    }
   ],
   "source": [
    "eng_tokenizer = tokenization(deu_eng[:, 0])\n",
    "eng_vocab_size = len(eng_tokenizer.word_index) + 1\n",
    "\n",
    "eng_length = 8\n",
    "print('English Vocabulary Size: %d' % eng_vocab_size)"
   ]
  },
  {
   "cell_type": "code",
   "execution_count": 12,
   "metadata": {},
   "outputs": [
    {
     "name": "stdout",
     "output_type": "stream",
     "text": [
      "Deutch Vocabulary Size: 2330\n"
     ]
    }
   ],
   "source": [
    "deu_tokenizer = tokenization(deu_eng[:, 1])\n",
    "deu_vocab_size = len(deu_tokenizer.word_index) + 1\n",
    "\n",
    "deu_length = 8\n",
    "print('Deutch Vocabulary Size: %d' % deu_vocab_size)"
   ]
  },
  {
   "cell_type": "code",
   "execution_count": 13,
   "metadata": {},
   "outputs": [],
   "source": [
    "def encode_sequences(tokenizer, length, lines):\n",
    "         # integer encode sequences\n",
    "         seq = tokenizer.texts_to_sequences(lines)\n",
    "         # pad sequences with 0 values\n",
    "         seq = pad_sequences(seq, maxlen=length, padding='post')\n",
    "         return seq"
   ]
  },
  {
   "cell_type": "code",
   "execution_count": 14,
   "metadata": {},
   "outputs": [],
   "source": [
    "from sklearn.model_selection import train_test_split\n",
    "\n",
    "# split data into train and test set\n",
    "train, test = train_test_split(deu_eng, test_size=0.2, random_state = 12)"
   ]
  },
  {
   "cell_type": "code",
   "execution_count": 15,
   "metadata": {},
   "outputs": [],
   "source": [
    "trainX = encode_sequences(deu_tokenizer, deu_length, train[:, 1])\n",
    "trainY = encode_sequences(eng_tokenizer, eng_length, train[:, 0])\n",
    "\n",
    "# prepare validation data\n",
    "testX = encode_sequences(deu_tokenizer, deu_length, test[:, 1])\n",
    "testY = encode_sequences(eng_tokenizer, eng_length, test[:, 0])"
   ]
  },
  {
   "cell_type": "code",
   "execution_count": 16,
   "metadata": {},
   "outputs": [],
   "source": [
    "def define_model(in_vocab,out_vocab, in_timesteps,out_timesteps,units):\n",
    "      model = Sequential()\n",
    "      model.add(Embedding(in_vocab, units, input_length=in_timesteps, mask_zero=True))\n",
    "      model.add(LSTM(units))\n",
    "      model.add(RepeatVector(out_timesteps))\n",
    "      model.add(LSTM(units, return_sequences=True))\n",
    "      model.add(Dense(out_vocab, activation='softmax'))\n",
    "      return model"
   ]
  },
  {
   "cell_type": "code",
   "execution_count": 17,
   "metadata": {},
   "outputs": [],
   "source": [
    "model = define_model(deu_vocab_size, eng_vocab_size, deu_length, eng_length, 512)"
   ]
  },
  {
   "cell_type": "code",
   "execution_count": 19,
   "metadata": {},
   "outputs": [],
   "source": [
    "rms = optimizers.RMSprop(lr=0.001,rho=0.8)\n",
    "model.compile(optimizer=rms, loss='sparse_categorical_crossentropy')"
   ]
  },
  {
   "cell_type": "code",
   "execution_count": 21,
   "metadata": {},
   "outputs": [
    {
     "name": "stdout",
     "output_type": "stream",
     "text": [
      "Train on 3200 samples, validate on 800 samples\n",
      "Epoch 1/30\n",
      "3200/3200 [==============================] - 22s 7ms/step - loss: 5.1442 - val_loss: 2.5793\n",
      "\n",
      "Epoch 00001: val_loss improved from inf to 2.57926, saving model to model_file\n",
      "Epoch 2/30\n",
      "3200/3200 [==============================] - 18s 6ms/step - loss: 2.4294 - val_loss: 2.3223\n",
      "\n",
      "Epoch 00002: val_loss improved from 2.57926 to 2.32234, saving model to model_file\n",
      "Epoch 3/30\n",
      "3200/3200 [==============================] - 18s 6ms/step - loss: 2.2625 - val_loss: 2.2164\n",
      "\n",
      "Epoch 00003: val_loss improved from 2.32234 to 2.21644, saving model to model_file\n",
      "Epoch 4/30\n",
      "3200/3200 [==============================] - 18s 6ms/step - loss: 2.1477 - val_loss: 2.1510\n",
      "\n",
      "Epoch 00004: val_loss improved from 2.21644 to 2.15095, saving model to model_file\n",
      "Epoch 5/30\n",
      "3200/3200 [==============================] - 22s 7ms/step - loss: 2.0127 - val_loss: 2.1941\n",
      "\n",
      "Epoch 00005: val_loss did not improve from 2.15095\n",
      "Epoch 6/30\n",
      "3200/3200 [==============================] - 24s 7ms/step - loss: 1.9960 - val_loss: 1.9903\n",
      "\n",
      "Epoch 00006: val_loss improved from 2.15095 to 1.99028, saving model to model_file\n",
      "Epoch 7/30\n",
      "3200/3200 [==============================] - 18s 6ms/step - loss: 1.9335 - val_loss: 1.9779\n",
      "\n",
      "Epoch 00007: val_loss improved from 1.99028 to 1.97791, saving model to model_file\n",
      "Epoch 8/30\n",
      "3200/3200 [==============================] - 19s 6ms/step - loss: 1.8847 - val_loss: 2.0209\n",
      "\n",
      "Epoch 00008: val_loss did not improve from 1.97791\n",
      "Epoch 9/30\n",
      "3200/3200 [==============================] - 18s 6ms/step - loss: 1.8354 - val_loss: 2.0076\n",
      "\n",
      "Epoch 00009: val_loss did not improve from 1.97791\n",
      "Epoch 10/30\n",
      "3200/3200 [==============================] - 18s 6ms/step - loss: 1.8505 - val_loss: 2.0039\n",
      "\n",
      "Epoch 00010: val_loss did not improve from 1.97791\n",
      "Epoch 11/30\n",
      "3200/3200 [==============================] - 18s 6ms/step - loss: 1.8066 - val_loss: 1.9896\n",
      "\n",
      "Epoch 00011: val_loss did not improve from 1.97791\n",
      "Epoch 12/30\n",
      "3200/3200 [==============================] - 18s 6ms/step - loss: 1.7826 - val_loss: 2.0491\n",
      "\n",
      "Epoch 00012: val_loss did not improve from 1.97791\n",
      "Epoch 13/30\n",
      "3200/3200 [==============================] - 18s 6ms/step - loss: 1.7590 - val_loss: 2.0142\n",
      "\n",
      "Epoch 00013: val_loss did not improve from 1.97791\n",
      "Epoch 14/30\n",
      "3200/3200 [==============================] - 18s 6ms/step - loss: 1.7423 - val_loss: 1.9628\n",
      "\n",
      "Epoch 00014: val_loss improved from 1.97791 to 1.96276, saving model to model_file\n",
      "Epoch 15/30\n",
      "3200/3200 [==============================] - 19s 6ms/step - loss: 1.7146 - val_loss: 1.9483\n",
      "\n",
      "Epoch 00015: val_loss improved from 1.96276 to 1.94832, saving model to model_file\n",
      "Epoch 16/30\n",
      "3200/3200 [==============================] - 22s 7ms/step - loss: 1.6690 - val_loss: 1.9447\n",
      "\n",
      "Epoch 00016: val_loss improved from 1.94832 to 1.94468, saving model to model_file\n",
      "Epoch 17/30\n",
      "3200/3200 [==============================] - 25s 8ms/step - loss: 1.6511 - val_loss: 1.9473\n",
      "\n",
      "Epoch 00017: val_loss did not improve from 1.94468\n",
      "Epoch 18/30\n",
      "3200/3200 [==============================] - 23s 7ms/step - loss: 1.6240 - val_loss: 1.9092\n",
      "\n",
      "Epoch 00018: val_loss improved from 1.94468 to 1.90920, saving model to model_file\n",
      "Epoch 19/30\n",
      "3200/3200 [==============================] - 19s 6ms/step - loss: 1.5926 - val_loss: 1.9238\n",
      "\n",
      "Epoch 00019: val_loss did not improve from 1.90920\n",
      "Epoch 20/30\n",
      "3200/3200 [==============================] - 22s 7ms/step - loss: 1.5719 - val_loss: 1.9026\n",
      "\n",
      "Epoch 00020: val_loss improved from 1.90920 to 1.90257, saving model to model_file\n",
      "Epoch 21/30\n",
      "3200/3200 [==============================] - 22s 7ms/step - loss: 1.5306 - val_loss: 1.8816\n",
      "\n",
      "Epoch 00021: val_loss improved from 1.90257 to 1.88161, saving model to model_file\n",
      "Epoch 22/30\n",
      "3200/3200 [==============================] - 20s 6ms/step - loss: 1.5137 - val_loss: 1.8592\n",
      "\n",
      "Epoch 00022: val_loss improved from 1.88161 to 1.85918, saving model to model_file\n",
      "Epoch 23/30\n",
      "3200/3200 [==============================] - 20s 6ms/step - loss: 1.4724 - val_loss: 1.8537\n",
      "\n",
      "Epoch 00023: val_loss improved from 1.85918 to 1.85372, saving model to model_file\n",
      "Epoch 24/30\n",
      "3200/3200 [==============================] - 19s 6ms/step - loss: 1.4461 - val_loss: 1.8433\n",
      "\n",
      "Epoch 00024: val_loss improved from 1.85372 to 1.84327, saving model to model_file\n",
      "Epoch 25/30\n",
      "3200/3200 [==============================] - 19s 6ms/step - loss: 1.3982 - val_loss: 1.8514\n",
      "\n",
      "Epoch 00025: val_loss did not improve from 1.84327\n",
      "Epoch 26/30\n",
      "3200/3200 [==============================] - 18s 6ms/step - loss: 1.3961 - val_loss: 1.8179\n",
      "\n",
      "Epoch 00026: val_loss improved from 1.84327 to 1.81791, saving model to model_file\n",
      "Epoch 27/30\n",
      "3200/3200 [==============================] - 18s 6ms/step - loss: 1.3516 - val_loss: 1.7683\n",
      "\n",
      "Epoch 00027: val_loss improved from 1.81791 to 1.76828, saving model to model_file\n",
      "Epoch 28/30\n",
      "3200/3200 [==============================] - 18s 6ms/step - loss: 1.3370 - val_loss: 1.8138\n",
      "\n",
      "Epoch 00028: val_loss did not improve from 1.76828\n",
      "Epoch 29/30\n",
      "3200/3200 [==============================] - 18s 6ms/step - loss: 1.2919 - val_loss: 1.7990\n",
      "\n",
      "Epoch 00029: val_loss did not improve from 1.76828\n",
      "Epoch 30/30\n",
      "3200/3200 [==============================] - 18s 6ms/step - loss: 1.2602 - val_loss: 1.7908\n",
      "\n",
      "Epoch 00030: val_loss did not improve from 1.76828\n"
     ]
    }
   ],
   "source": [
    "filename = 'model_file'\n",
    "checkpoint = ModelCheckpoint(filename, monitor='val_loss', verbose=1, save_best_only=True, mode='min')\n",
    "\n",
    "# train model\n",
    "history = model.fit(trainX, trainY.reshape(trainY.shape[0], trainY.shape[1], 1),\n",
    "                    epochs=30, batch_size=512, validation_split = 0.2,callbacks=[checkpoint], \n",
    "                    verbose=1)"
   ]
  },
  {
   "cell_type": "code",
   "execution_count": 22,
   "metadata": {},
   "outputs": [
    {
     "data": {
      "image/png": "[encoded data removed]",
      "text/plain": [
       "<Figure size 432x288 with 1 Axes>"
      ]
     },
     "metadata": {
      "needs_background": "light"
     },
     "output_type": "display_data"
    }
   ],
   "source": [
    "plt.plot(history.history['loss'])\n",
    "plt.plot(history.history['val_loss'])\n",
    "plt.legend(['train','validation'])\n",
    "plt.show()"
   ]
  },
  {
   "cell_type": "code",
   "execution_count": 23,
   "metadata": {},
   "outputs": [],
   "source": [
    "model = load_model('model_file')\n",
    "preds = model.predict_classes(testX.reshape((testX.shape[0],testX.shape[1])))"
   ]
  },
  {
   "cell_type": "code",
   "execution_count": 24,
   "metadata": {},
   "outputs": [],
   "source": [
    "def get_word(n, tokenizer):\n",
    "    for word, index in tokenizer.word_index.items():\n",
    "        if index == n:\n",
    "            return word\n",
    "    return None"
   ]
  },
  {
   "cell_type": "code",
   "execution_count": 25,
   "metadata": {},
   "outputs": [],
   "source": [
    "preds_text = []\n",
    "for i in preds:\n",
    "       temp = []\n",
    "       for j in range(len(i)):\n",
    "            t = get_word(i[j], eng_tokenizer)\n",
    "            if j > 0:\n",
    "                if (t == get_word(i[j-1], eng_tokenizer)) or (t == None):\n",
    "                     temp.append('')\n",
    "                else:\n",
    "                     temp.append(t)\n",
    "            else:\n",
    "                   if(t == None):\n",
    "                          temp.append('')\n",
    "                   else:\n",
    "                          temp.append(t) \n",
    "\n",
    "       preds_text.append(' '.join(temp))"
   ]
  },
  {
   "cell_type": "code",
   "execution_count": 30,
   "metadata": {},
   "outputs": [],
   "source": [
    "pred_df = pd.DataFrame({'actual' : test[:,0],'German':test[:,1] ,'predicted' : preds_text})"
   ]
  },
  {
   "cell_type": "code",
   "execution_count": 31,
   "metadata": {},
   "outputs": [
    {
     "data": {
      "text/html": [
       "<div>\n",
       "<style scoped>\n",
       "    .dataframe tbody tr th:only-of-type {\n",
       "        vertical-align: middle;\n",
       "    }\n",
       "\n",
       "    .dataframe tbody tr th {\n",
       "        vertical-align: top;\n",
       "    }\n",
       "\n",
       "    .dataframe thead th {\n",
       "        text-align: right;\n",
       "    }\n",
       "</style>\n",
       "<table border=\"1\" class=\"dataframe\">\n",
       "  <thead>\n",
       "    <tr style=\"text-align: right;\">\n",
       "      <th></th>\n",
       "      <th>German</th>\n",
       "      <th>actual</th>\n",
       "      <th>predicted</th>\n",
       "    </tr>\n",
       "  </thead>\n",
       "  <tbody>\n",
       "    <tr>\n",
       "      <th>343</th>\n",
       "      <td>ich lüge nicht</td>\n",
       "      <td>i dont lie</td>\n",
       "      <td>im not</td>\n",
       "    </tr>\n",
       "    <tr>\n",
       "      <th>864</th>\n",
       "      <td>frag einen fachmann</td>\n",
       "      <td>ask an expert</td>\n",
       "      <td>its is</td>\n",
       "    </tr>\n",
       "    <tr>\n",
       "      <th>649</th>\n",
       "      <td>ich bin in einer gang</td>\n",
       "      <td>im in a gang</td>\n",
       "      <td>im am</td>\n",
       "    </tr>\n",
       "    <tr>\n",
       "      <th>767</th>\n",
       "      <td>ich bin ruiniert</td>\n",
       "      <td>im ruined</td>\n",
       "      <td>im am</td>\n",
       "    </tr>\n",
       "    <tr>\n",
       "      <th>372</th>\n",
       "      <td>übernehmen sie die kontrolle</td>\n",
       "      <td>take control</td>\n",
       "      <td>its it</td>\n",
       "    </tr>\n",
       "    <tr>\n",
       "      <th>993</th>\n",
       "      <td>das ist alles</td>\n",
       "      <td>that is all</td>\n",
       "      <td>its is it</td>\n",
       "    </tr>\n",
       "    <tr>\n",
       "      <th>357</th>\n",
       "      <td>warten sie auf uns</td>\n",
       "      <td>wait for us</td>\n",
       "      <td>come is</td>\n",
       "    </tr>\n",
       "    <tr>\n",
       "      <th>661</th>\n",
       "      <td>tom will es</td>\n",
       "      <td>tom wants it</td>\n",
       "      <td>tom  it</td>\n",
       "    </tr>\n",
       "    <tr>\n",
       "      <th>789</th>\n",
       "      <td>tom geht zu fuß</td>\n",
       "      <td>tom walks</td>\n",
       "      <td>tom</td>\n",
       "    </tr>\n",
       "    <tr>\n",
       "      <th>531</th>\n",
       "      <td>du fehlst uns</td>\n",
       "      <td>we miss you</td>\n",
       "      <td>come it</td>\n",
       "    </tr>\n",
       "    <tr>\n",
       "      <th>826</th>\n",
       "      <td>wir können beginnen</td>\n",
       "      <td>we can begin</td>\n",
       "      <td>we you it</td>\n",
       "    </tr>\n",
       "    <tr>\n",
       "      <th>978</th>\n",
       "      <td>tom ist glücklich</td>\n",
       "      <td>tom is happy</td>\n",
       "      <td>tom is</td>\n",
       "    </tr>\n",
       "    <tr>\n",
       "      <th>178</th>\n",
       "      <td>ich helfe dir</td>\n",
       "      <td>ill help you</td>\n",
       "      <td>im not</td>\n",
       "    </tr>\n",
       "    <tr>\n",
       "      <th>403</th>\n",
       "      <td>tom schwamm</td>\n",
       "      <td>tom swam</td>\n",
       "      <td>tom</td>\n",
       "    </tr>\n",
       "    <tr>\n",
       "      <th>924</th>\n",
       "      <td>lass deine waffe fallen</td>\n",
       "      <td>drop your gun</td>\n",
       "      <td>is  it</td>\n",
       "    </tr>\n",
       "  </tbody>\n",
       "</table>\n",
       "</div>"
      ],
      "text/plain": [
       "                           German         actual       predicted\n",
       "343                ich lüge nicht     i dont lie    im not      \n",
       "864           frag einen fachmann  ask an expert    its is      \n",
       "649         ich bin in einer gang   im in a gang     im am      \n",
       "767              ich bin ruiniert      im ruined     im am      \n",
       "372  übernehmen sie die kontrolle   take control    its it      \n",
       "993                 das ist alles    that is all  its is it     \n",
       "357            warten sie auf uns    wait for us   come is      \n",
       "661                   tom will es   tom wants it    tom  it     \n",
       "789               tom geht zu fuß      tom walks      tom       \n",
       "531                 du fehlst uns    we miss you   come it      \n",
       "826           wir können beginnen   we can begin  we you it     \n",
       "978             tom ist glücklich   tom is happy    tom is      \n",
       "178                 ich helfe dir   ill help you    im not      \n",
       "403                   tom schwamm       tom swam      tom       \n",
       "924       lass deine waffe fallen  drop your gun     is  it     "
      ]
     },
     "execution_count": 31,
     "metadata": {},
     "output_type": "execute_result"
    }
   ],
   "source": [
    "pred_df.sample(15)"
   ]
  }
 ],
 "metadata": {
  "kernelspec": {
   "display_name": "Python 3",
   "language": "python",
   "name": "python3"
  },
  "language_info": {
   "codemirror_mode": {
    "name": "ipython",
    "version": 3
   },
   "file_extension": ".py",
   "mimetype": "text/x-python",
   "name": "python",
   "nbconvert_exporter": "python",
   "pygments_lexer": "ipython3",
   "version": "3.5.2"
  }
 },
 "nbformat": 4,
 "nbformat_minor": 2
}
