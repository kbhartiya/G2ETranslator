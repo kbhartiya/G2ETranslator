{
 "cells": [
  {
   "cell_type": "code",
   "execution_count": 26,
   "metadata": {},
   "outputs": [],
   "source": [
    "import string\n",
    "import re\n",
    "from numpy import array, argmax, random, take\n",
    "import pandas as pd\n",
    "from keras.models import Sequential\n",
    "from keras.layers import Bidirectional,Dense, LSTM, Embedding, RepeatVector\n",
    "from keras.preprocessing.text import Tokenizer\n",
    "from keras.callbacks import ModelCheckpoint\n",
    "from keras.preprocessing.sequence import pad_sequences\n",
    "from keras.models import load_model\n",
    "from keras import optimizers\n",
    "import matplotlib.pyplot as plt\n",
    "%matplotlib inline\n",
    "pd.set_option('display.max_colwidth', 1000)"
   ]
  },
  {
   "cell_type": "code",
   "execution_count": 2,
   "metadata": {},
   "outputs": [],
   "source": [
    "def read_text(filename):\n",
    "        # open the file\n",
    "        file = open(filename, mode='rt', encoding='utf-8')\n",
    "        \n",
    "        # read all text\n",
    "        text = file.read()\n",
    "        file.close()\n",
    "        return text"
   ]
  },
  {
   "cell_type": "code",
   "execution_count": 3,
   "metadata": {},
   "outputs": [],
   "source": [
    "def to_lines(text):\n",
    "      sents = text.strip().split('\\n')\n",
    "      sents = [i.split('\\t') for i in sents]\n",
    "      return sents"
   ]
  },
  {
   "cell_type": "code",
   "execution_count": 4,
   "metadata": {},
   "outputs": [],
   "source": [
    "data = read_text(\"deu.txt\")\n",
    "deu_eng = to_lines(data)\n",
    "deu_eng = array(deu_eng)"
   ]
  },
  {
   "cell_type": "code",
   "execution_count": 5,
   "metadata": {},
   "outputs": [],
   "source": [
    "deu_eng = deu_eng[:5000,:]"
   ]
  },
  {
   "cell_type": "code",
   "execution_count": 6,
   "metadata": {},
   "outputs": [
    {
     "data": {
      "text/plain": [
       "array([['Hi.', 'Hallo!'],\n",
       "       ['Hi.', 'Grüß Gott!'],\n",
       "       ['Run!', 'Lauf!'],\n",
       "       ...,\n",
       "       ['Tom is a poet.', 'Tom ist ein Poet.'],\n",
       "       ['Tom is a slob.', 'Tom ist ein Chaot.'],\n",
       "       ['Tom is a wimp.', 'Tom ist ein Weichei.']], dtype='<U380')"
      ]
     },
     "execution_count": 6,
     "metadata": {},
     "output_type": "execute_result"
    }
   ],
   "source": [
    "deu_eng"
   ]
  },
  {
   "cell_type": "code",
   "execution_count": 7,
   "metadata": {},
   "outputs": [
    {
     "data": {
      "text/plain": [
       "array([['Hi', 'Hallo'],\n",
       "       ['Hi', 'Grüß Gott'],\n",
       "       ['Run', 'Lauf'],\n",
       "       ...,\n",
       "       ['Tom is a poet', 'Tom ist ein Poet'],\n",
       "       ['Tom is a slob', 'Tom ist ein Chaot'],\n",
       "       ['Tom is a wimp', 'Tom ist ein Weichei']], dtype='<U380')"
      ]
     },
     "execution_count": 7,
     "metadata": {},
     "output_type": "execute_result"
    }
   ],
   "source": [
    "deu_eng[:,0] = [s.translate(str.maketrans('', '', string.punctuation)) for s in deu_eng[:,0]]\n",
    "deu_eng[:,1] = [s.translate(str.maketrans('', '', string.punctuation)) for s in deu_eng[:,1]]\n",
    "\n",
    "deu_eng"
   ]
  },
  {
   "cell_type": "code",
   "execution_count": 8,
   "metadata": {},
   "outputs": [
    {
     "data": {
      "text/plain": [
       "array([['hi', 'hallo'],\n",
       "       ['hi', 'grüß gott'],\n",
       "       ['run', 'lauf'],\n",
       "       ...,\n",
       "       ['tom is a poet', 'tom ist ein poet'],\n",
       "       ['tom is a slob', 'tom ist ein chaot'],\n",
       "       ['tom is a wimp', 'tom ist ein weichei']], dtype='<U380')"
      ]
     },
     "execution_count": 8,
     "metadata": {},
     "output_type": "execute_result"
    }
   ],
   "source": [
    "for i in range(len(deu_eng)):\n",
    "    deu_eng[i,0] = deu_eng[i,0].lower()\n",
    "    deu_eng[i,1] = deu_eng[i,1].lower()\n",
    "\n",
    "deu_eng"
   ]
  },
  {
   "cell_type": "code",
   "execution_count": 9,
   "metadata": {},
   "outputs": [
    {
     "data": {
      "image/png": "[encoded data removed]",
      "text/plain": [
       "<Figure size 432x288 with 2 Axes>"
      ]
     },
     "metadata": {
      "needs_background": "light"
     },
     "output_type": "display_data"
    }
   ],
   "source": [
    "eng_l = []\n",
    "deu_l = []\n",
    "\n",
    "# populate the lists with sentence lengths\n",
    "for i in deu_eng[:,0]:\n",
    "      eng_l.append(len(i.split()))\n",
    "\n",
    "for i in deu_eng[:,1]:\n",
    "      deu_l.append(len(i.split()))\n",
    "\n",
    "length_df = pd.DataFrame({'eng':eng_l, 'deu':deu_l})\n",
    "\n",
    "length_df.hist(bins = 30)\n",
    "plt.show()"
   ]
  },
  {
   "cell_type": "code",
   "execution_count": 10,
   "metadata": {},
   "outputs": [],
   "source": [
    "def tokenization(lines):\n",
    "      tokenizer = Tokenizer()\n",
    "      tokenizer.fit_on_texts(lines)\n",
    "      return tokenizer"
   ]
  },
  {
   "cell_type": "code",
   "execution_count": 11,
   "metadata": {},
   "outputs": [
    {
     "name": "stdout",
     "output_type": "stream",
     "text": [
      "English Vocabulary Size: 1391\n"
     ]
    }
   ],
   "source": [
    "eng_tokenizer = tokenization(deu_eng[:, 0])\n",
    "eng_vocab_size = len(eng_tokenizer.word_index) + 1\n",
    "\n",
    "eng_length = 8\n",
    "print('English Vocabulary Size: %d' % eng_vocab_size)"
   ]
  },
  {
   "cell_type": "code",
   "execution_count": 12,
   "metadata": {},
   "outputs": [
    {
     "name": "stdout",
     "output_type": "stream",
     "text": [
      "Deutch Vocabulary Size: 2330\n"
     ]
    }
   ],
   "source": [
    "deu_tokenizer = tokenization(deu_eng[:, 1])\n",
    "deu_vocab_size = len(deu_tokenizer.word_index) + 1\n",
    "\n",
    "deu_length = 8\n",
    "print('Deutch Vocabulary Size: %d' % deu_vocab_size)"
   ]
  },
  {
   "cell_type": "code",
   "execution_count": 13,
   "metadata": {},
   "outputs": [],
   "source": [
    "def encode_sequences(tokenizer, length, lines):\n",
    "         # integer encode sequences\n",
    "         seq = tokenizer.texts_to_sequences(lines)\n",
    "         # pad sequences with 0 values\n",
    "         seq = pad_sequences(seq, maxlen=length, padding='post')\n",
    "         return seq"
   ]
  },
  {
   "cell_type": "code",
   "execution_count": 14,
   "metadata": {},
   "outputs": [],
   "source": [
    "from sklearn.model_selection import train_test_split\n",
    "\n",
    "# split data into train and test set\n",
    "train, test = train_test_split(deu_eng, test_size=0.2, random_state = 12)"
   ]
  },
  {
   "cell_type": "code",
   "execution_count": 15,
   "metadata": {},
   "outputs": [],
   "source": [
    "trainX = encode_sequences(deu_tokenizer, deu_length, train[:, 1])\n",
    "trainY = encode_sequences(eng_tokenizer, eng_length, train[:, 0])\n",
    "\n",
    "# prepare validation data\n",
    "testX = encode_sequences(deu_tokenizer, deu_length, test[:, 1])\n",
    "testY = encode_sequences(eng_tokenizer, eng_length, test[:, 0])"
   ]
  },
  {
   "cell_type": "code",
   "execution_count": 16,
   "metadata": {},
   "outputs": [],
   "source": [
    "def model(in_vocab,out_vocab, in_timesteps,out_timesteps,units):\n",
    "      model = Sequential()\n",
    "      model.add(Embedding(in_vocab, units, input_length=in_timesteps, mask_zero=True))\n",
    "      model.add(Bidirectional(LSTM(units)))\n",
    "      model.add(RepeatVector(out_timesteps))\n",
    "      model.add(Bidirectional(LSTM(units, return_sequences=True)))\n",
    "      model.add(Dense(out_vocab, activation='softmax'))\n",
    "      return model"
   ]
  },
  {
   "cell_type": "code",
   "execution_count": 17,
   "metadata": {},
   "outputs": [],
   "source": [
    "model = model(deu_vocab_size, eng_vocab_size, deu_length, eng_length, 512)"
   ]
  },
  {
   "cell_type": "code",
   "execution_count": 18,
   "metadata": {},
   "outputs": [],
   "source": [
    "rms = optimizers.RMSprop(lr=0.001,rho=0.8)\n",
    "model.compile(optimizer=rms, loss='sparse_categorical_crossentropy')"
   ]
  },
  {
   "cell_type": "code",
   "execution_count": 19,
   "metadata": {},
   "outputs": [
    {
     "name": "stdout",
     "output_type": "stream",
     "text": [
      "Train on 3200 samples, validate on 800 samples\n",
      "Epoch 1/30\n",
      "3200/3200 [==============================] - 46s 14ms/step - loss: 3.5342 - val_loss: 2.0608\n",
      "\n",
      "Epoch 00001: val_loss improved from inf to 2.06079, saving model to model_file\n",
      "Epoch 2/30\n",
      "3200/3200 [==============================] - 40s 12ms/step - loss: 2.0121 - val_loss: 1.9879\n",
      "\n",
      "Epoch 00002: val_loss improved from 2.06079 to 1.98790, saving model to model_file\n",
      "Epoch 3/30\n",
      "3200/3200 [==============================] - 40s 12ms/step - loss: 1.8958 - val_loss: 1.9056\n",
      "\n",
      "Epoch 00003: val_loss improved from 1.98790 to 1.90558, saving model to model_file\n",
      "Epoch 4/30\n",
      "3200/3200 [==============================] - 41s 13ms/step - loss: 1.7964 - val_loss: 1.8569\n",
      "\n",
      "Epoch 00004: val_loss improved from 1.90558 to 1.85693, saving model to model_file\n",
      "Epoch 5/30\n",
      "3200/3200 [==============================] - 40s 12ms/step - loss: 1.7189 - val_loss: 1.8149\n",
      "\n",
      "Epoch 00005: val_loss improved from 1.85693 to 1.81490, saving model to model_file\n",
      "Epoch 6/30\n",
      "3200/3200 [==============================] - 41s 13ms/step - loss: 1.6355 - val_loss: 1.7666\n",
      "\n",
      "Epoch 00006: val_loss improved from 1.81490 to 1.76656, saving model to model_file\n",
      "Epoch 7/30\n",
      "3200/3200 [==============================] - 40s 13ms/step - loss: 1.5477 - val_loss: 1.7169\n",
      "\n",
      "Epoch 00007: val_loss improved from 1.76656 to 1.71690, saving model to model_file\n",
      "Epoch 8/30\n",
      "3200/3200 [==============================] - 40s 12ms/step - loss: 1.4737 - val_loss: 1.6843\n",
      "\n",
      "Epoch 00008: val_loss improved from 1.71690 to 1.68427, saving model to model_file\n",
      "Epoch 9/30\n",
      "3200/3200 [==============================] - 40s 12ms/step - loss: 1.4040 - val_loss: 1.6544\n",
      "\n",
      "Epoch 00009: val_loss improved from 1.68427 to 1.65437, saving model to model_file\n",
      "Epoch 10/30\n",
      "3200/3200 [==============================] - 40s 13ms/step - loss: 1.3227 - val_loss: 1.6232\n",
      "\n",
      "Epoch 00010: val_loss improved from 1.65437 to 1.62320, saving model to model_file\n",
      "Epoch 11/30\n",
      "3200/3200 [==============================] - 40s 12ms/step - loss: 1.2525 - val_loss: 1.6115\n",
      "\n",
      "Epoch 00011: val_loss improved from 1.62320 to 1.61145, saving model to model_file\n",
      "Epoch 12/30\n",
      "3200/3200 [==============================] - 40s 13ms/step - loss: 1.1828 - val_loss: 1.5791\n",
      "\n",
      "Epoch 00012: val_loss improved from 1.61145 to 1.57906, saving model to model_file\n",
      "Epoch 13/30\n",
      "3200/3200 [==============================] - 40s 13ms/step - loss: 1.1209 - val_loss: 1.5670\n",
      "\n",
      "Epoch 00013: val_loss improved from 1.57906 to 1.56705, saving model to model_file\n",
      "Epoch 14/30\n",
      "3200/3200 [==============================] - 40s 13ms/step - loss: 1.0537 - val_loss: 1.5620\n",
      "\n",
      "Epoch 00014: val_loss improved from 1.56705 to 1.56202, saving model to model_file\n",
      "Epoch 15/30\n",
      "3200/3200 [==============================] - 40s 13ms/step - loss: 0.9836 - val_loss: 1.5073\n",
      "\n",
      "Epoch 00015: val_loss improved from 1.56202 to 1.50734, saving model to model_file\n",
      "Epoch 16/30\n",
      "3200/3200 [==============================] - 40s 13ms/step - loss: 0.9284 - val_loss: 1.4964\n",
      "\n",
      "Epoch 00016: val_loss improved from 1.50734 to 1.49642, saving model to model_file\n",
      "Epoch 17/30\n",
      "3200/3200 [==============================] - 40s 12ms/step - loss: 0.8644 - val_loss: 1.4846\n",
      "\n",
      "Epoch 00017: val_loss improved from 1.49642 to 1.48464, saving model to model_file\n",
      "Epoch 18/30\n",
      "3200/3200 [==============================] - 40s 13ms/step - loss: 0.8080 - val_loss: 1.4799\n",
      "\n",
      "Epoch 00018: val_loss improved from 1.48464 to 1.47986, saving model to model_file\n",
      "Epoch 19/30\n",
      "3200/3200 [==============================] - 40s 13ms/step - loss: 0.7569 - val_loss: 1.4631\n",
      "\n",
      "Epoch 00019: val_loss improved from 1.47986 to 1.46307, saving model to model_file\n",
      "Epoch 20/30\n",
      "3200/3200 [==============================] - 40s 13ms/step - loss: 0.6938 - val_loss: 1.4409\n",
      "\n",
      "Epoch 00020: val_loss improved from 1.46307 to 1.44089, saving model to model_file\n",
      "Epoch 21/30\n",
      "3200/3200 [==============================] - 40s 13ms/step - loss: 0.6574 - val_loss: 1.4321\n",
      "\n",
      "Epoch 00021: val_loss improved from 1.44089 to 1.43210, saving model to model_file\n",
      "Epoch 22/30\n",
      "3200/3200 [==============================] - 40s 13ms/step - loss: 0.5975 - val_loss: 1.4315\n",
      "\n",
      "Epoch 00022: val_loss improved from 1.43210 to 1.43150, saving model to model_file\n",
      "Epoch 23/30\n",
      "3200/3200 [==============================] - 40s 12ms/step - loss: 0.5489 - val_loss: 1.4447\n",
      "\n",
      "Epoch 00023: val_loss did not improve from 1.43150\n",
      "Epoch 24/30\n",
      "3200/3200 [==============================] - 40s 12ms/step - loss: 0.5122 - val_loss: 1.4154\n",
      "\n",
      "Epoch 00024: val_loss improved from 1.43150 to 1.41542, saving model to model_file\n",
      "Epoch 25/30\n",
      "3200/3200 [==============================] - 40s 13ms/step - loss: 0.4717 - val_loss: 1.4057\n",
      "\n",
      "Epoch 00025: val_loss improved from 1.41542 to 1.40571, saving model to model_file\n",
      "Epoch 26/30\n",
      "3200/3200 [==============================] - 40s 12ms/step - loss: 0.4230 - val_loss: 1.4300\n",
      "\n",
      "Epoch 00026: val_loss did not improve from 1.40571\n",
      "Epoch 27/30\n",
      "3200/3200 [==============================] - 40s 13ms/step - loss: 0.3865 - val_loss: 1.4282\n",
      "\n",
      "Epoch 00027: val_loss did not improve from 1.40571\n",
      "Epoch 28/30\n",
      "3200/3200 [==============================] - 41s 13ms/step - loss: 0.3621 - val_loss: 1.3816\n",
      "\n",
      "Epoch 00028: val_loss improved from 1.40571 to 1.38165, saving model to model_file\n",
      "Epoch 29/30\n",
      "3200/3200 [==============================] - 40s 12ms/step - loss: 0.3236 - val_loss: 1.3942\n",
      "\n",
      "Epoch 00029: val_loss did not improve from 1.38165\n",
      "Epoch 30/30\n",
      "3200/3200 [==============================] - 40s 12ms/step - loss: 0.2994 - val_loss: 1.3941\n",
      "\n",
      "Epoch 00030: val_loss did not improve from 1.38165\n"
     ]
    }
   ],
   "source": [
    "filename = 'model_file'\n",
    "checkpoint = ModelCheckpoint(filename, monitor='val_loss', verbose=1, save_best_only=True, mode='min')\n",
    "\n",
    "# train model\n",
    "history = model.fit(trainX, trainY.reshape(trainY.shape[0], trainY.shape[1], 1),\n",
    "                    epochs=30, batch_size=256, validation_split = 0.2,callbacks=[checkpoint], \n",
    "                    verbose=1)"
   ]
  },
  {
   "cell_type": "code",
   "execution_count": 27,
   "metadata": {},
   "outputs": [
    {
     "data": {
      "image/png": "[encoded data removed]",
      "text/plain": [
       "<Figure size 432x288 with 1 Axes>"
      ]
     },
     "metadata": {
      "needs_background": "light"
     },
     "output_type": "display_data"
    }
   ],
   "source": [
    "plt.plot(history.history['loss'])\n",
    "plt.plot(history.history['val_loss'])\n",
    "plt.legend(['train','validation'])\n",
    "plt.show()"
   ]
  },
  {
   "cell_type": "code",
   "execution_count": 21,
   "metadata": {},
   "outputs": [],
   "source": [
    "model = load_model('model_file')\n",
    "preds = model.predict_classes(testX.reshape((testX.shape[0],testX.shape[1])))"
   ]
  },
  {
   "cell_type": "code",
   "execution_count": 22,
   "metadata": {},
   "outputs": [],
   "source": [
    "def get_word(n, tokenizer):\n",
    "    for word, index in tokenizer.word_index.items():\n",
    "        if index == n:\n",
    "            return word\n",
    "    return None"
   ]
  },
  {
   "cell_type": "code",
   "execution_count": 23,
   "metadata": {},
   "outputs": [],
   "source": [
    "preds_text = []\n",
    "for i in preds:\n",
    "       temp = []\n",
    "       for j in range(len(i)):\n",
    "            t = get_word(i[j], eng_tokenizer)\n",
    "            if j > 0:\n",
    "                if (t == get_word(i[j-1], eng_tokenizer)) or (t == None):\n",
    "                     temp.append('')\n",
    "                else:\n",
    "                     temp.append(t)\n",
    "            else:\n",
    "                   if(t == None):\n",
    "                          temp.append('')\n",
    "                   else:\n",
    "                          temp.append(t) \n",
    "\n",
    "       preds_text.append(' '.join(temp))"
   ]
  },
  {
   "cell_type": "code",
   "execution_count": 24,
   "metadata": {},
   "outputs": [],
   "source": [
    "pred_df = pd.DataFrame({'actual' : test[:,0],'German':test[:,1] ,'predicted' : preds_text})"
   ]
  },
  {
   "cell_type": "code",
   "execution_count": 25,
   "metadata": {},
   "outputs": [
    {
     "data": {
      "text/html": [
       "<div>\n",
       "<style scoped>\n",
       "    .dataframe tbody tr th:only-of-type {\n",
       "        vertical-align: middle;\n",
       "    }\n",
       "\n",
       "    .dataframe tbody tr th {\n",
       "        vertical-align: top;\n",
       "    }\n",
       "\n",
       "    .dataframe thead th {\n",
       "        text-align: right;\n",
       "    }\n",
       "</style>\n",
       "<table border=\"1\" class=\"dataframe\">\n",
       "  <thead>\n",
       "    <tr style=\"text-align: right;\">\n",
       "      <th></th>\n",
       "      <th>German</th>\n",
       "      <th>actual</th>\n",
       "      <th>predicted</th>\n",
       "    </tr>\n",
       "  </thead>\n",
       "  <tbody>\n",
       "    <tr>\n",
       "      <th>515</th>\n",
       "      <td>ich werde es verwenden</td>\n",
       "      <td>ill use it</td>\n",
       "      <td>ill allow it</td>\n",
       "    </tr>\n",
       "    <tr>\n",
       "      <th>76</th>\n",
       "      <td>mach es für tom</td>\n",
       "      <td>do it for tom</td>\n",
       "      <td>let it</td>\n",
       "    </tr>\n",
       "    <tr>\n",
       "      <th>463</th>\n",
       "      <td>du drückst dich vage aus</td>\n",
       "      <td>youre vague</td>\n",
       "      <td>try  down</td>\n",
       "    </tr>\n",
       "    <tr>\n",
       "      <th>322</th>\n",
       "      <td>mach dich vom acker</td>\n",
       "      <td>go away</td>\n",
       "      <td>get it</td>\n",
       "    </tr>\n",
       "    <tr>\n",
       "      <th>850</th>\n",
       "      <td>ich habe kaffee gekocht</td>\n",
       "      <td>i made coffee</td>\n",
       "      <td>i got coffee</td>\n",
       "    </tr>\n",
       "    <tr>\n",
       "      <th>101</th>\n",
       "      <td>das gehört mir</td>\n",
       "      <td>thats mine</td>\n",
       "      <td>thats me</td>\n",
       "    </tr>\n",
       "    <tr>\n",
       "      <th>332</th>\n",
       "      <td>schwirr ab</td>\n",
       "      <td>get lost</td>\n",
       "      <td>go away</td>\n",
       "    </tr>\n",
       "    <tr>\n",
       "      <th>281</th>\n",
       "      <td>sie weint</td>\n",
       "      <td>she is crying</td>\n",
       "      <td>start down</td>\n",
       "    </tr>\n",
       "    <tr>\n",
       "      <th>905</th>\n",
       "      <td>in deckung</td>\n",
       "      <td>get down</td>\n",
       "      <td>take mine</td>\n",
       "    </tr>\n",
       "    <tr>\n",
       "      <th>455</th>\n",
       "      <td>halten sie sich warm</td>\n",
       "      <td>keep warm</td>\n",
       "      <td>stop thanks</td>\n",
       "    </tr>\n",
       "    <tr>\n",
       "      <th>262</th>\n",
       "      <td>lass uns nach hause gehen</td>\n",
       "      <td>lets go home</td>\n",
       "      <td>go</td>\n",
       "    </tr>\n",
       "    <tr>\n",
       "      <th>505</th>\n",
       "      <td>wer soll das bezahlen</td>\n",
       "      <td>who will pay</td>\n",
       "      <td>who</td>\n",
       "    </tr>\n",
       "    <tr>\n",
       "      <th>840</th>\n",
       "      <td>ich bin so alt wie du</td>\n",
       "      <td>im your age</td>\n",
       "      <td>im very rebel</td>\n",
       "    </tr>\n",
       "    <tr>\n",
       "      <th>13</th>\n",
       "      <td>ich muss mich sputen</td>\n",
       "      <td>i must hurry</td>\n",
       "      <td>i to</td>\n",
       "    </tr>\n",
       "    <tr>\n",
       "      <th>833</th>\n",
       "      <td>ich bin im netz</td>\n",
       "      <td>i am online</td>\n",
       "      <td>im too</td>\n",
       "    </tr>\n",
       "  </tbody>\n",
       "</table>\n",
       "</div>"
      ],
      "text/plain": [
       "                        German         actual           predicted\n",
       "515     ich werde es verwenden     ill use it   ill allow it     \n",
       "76             mach es für tom  do it for tom        let it      \n",
       "463   du drückst dich vage aus    youre vague      try  down     \n",
       "322        mach dich vom acker        go away        get it      \n",
       "850    ich habe kaffee gekocht  i made coffee   i got coffee     \n",
       "101             das gehört mir     thats mine      thats me      \n",
       "332                 schwirr ab       get lost       go away      \n",
       "281                  sie weint  she is crying    start down      \n",
       "905                 in deckung       get down     take mine      \n",
       "455       halten sie sich warm      keep warm   stop thanks      \n",
       "262  lass uns nach hause gehen   lets go home           go       \n",
       "505      wer soll das bezahlen   who will pay          who       \n",
       "840      ich bin so alt wie du    im your age  im very rebel     \n",
       "13        ich muss mich sputen   i must hurry          i to      \n",
       "833            ich bin im netz    i am online        im too      "
      ]
     },
     "execution_count": 25,
     "metadata": {},
     "output_type": "execute_result"
    }
   ],
   "source": [
    "pred_df.sample(15)"
   ]
  }
 ],
 "metadata": {
  "kernelspec": {
   "display_name": "Python 3",
   "language": "python",
   "name": "python3"
  },
  "language_info": {
   "codemirror_mode": {
    "name": "ipython",
    "version": 3
   },
   "file_extension": ".py",
   "mimetype": "text/x-python",
   "name": "python",
   "nbconvert_exporter": "python",
   "pygments_lexer": "ipython3",
   "version": "3.5.2"
  }
 },
 "nbformat": 4,
 "nbformat_minor": 2
}
