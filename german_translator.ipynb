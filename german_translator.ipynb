{
 "cells": [
  {
   "cell_type": "code",
   "execution_count": 1,
   "metadata": {},
   "outputs": [
    {
     "name": "stderr",
     "output_type": "stream",
     "text": [
      "Using TensorFlow backend.\n"
     ]
    }
   ],
   "source": [
    "import string\n",
    "import re\n",
    "from numpy import array, argmax, random, take\n",
    "import pandas as pd\n",
    "from keras.models import Sequential\n",
    "from keras.layers import Dense, LSTM, Embedding, RepeatVector\n",
    "from keras.preprocessing.text import Tokenizer\n",
    "from keras.callbacks import ModelCheckpoint\n",
    "from keras.preprocessing.sequence import pad_sequences\n",
    "from keras.models import load_model\n",
    "from keras import optimizers\n",
    "import matplotlib.pyplot as plt\n",
    "%matplotlib inline\n",
    "pd.set_option('display.max_colwidth', 200)"
   ]
  },
  {
   "cell_type": "code",
   "execution_count": 2,
   "metadata": {},
   "outputs": [],
   "source": [
    "def read_text(filename):\n",
    "        # open the file\n",
    "        file = open(filename, mode='rt', encoding='utf-8')\n",
    "        \n",
    "        # read all text\n",
    "        text = file.read()\n",
    "        file.close()\n",
    "        return text"
   ]
  },
  {
   "cell_type": "code",
   "execution_count": 3,
   "metadata": {},
   "outputs": [],
   "source": [
    "def to_lines(text):\n",
    "      sents = text.strip().split('\\n')\n",
    "      sents = [i.split('\\t') for i in sents]\n",
    "      return sents"
   ]
  },
  {
   "cell_type": "code",
   "execution_count": 4,
   "metadata": {},
   "outputs": [],
   "source": [
    "data = read_text(\"deu.txt\")\n",
    "deu_eng = to_lines(data)\n",
    "deu_eng = array(deu_eng)"
   ]
  },
  {
   "cell_type": "code",
   "execution_count": 5,
   "metadata": {},
   "outputs": [],
   "source": [
    "deu_eng = deu_eng[:20000,:]"
   ]
  },
  {
   "cell_type": "code",
   "execution_count": 6,
   "metadata": {},
   "outputs": [
    {
     "data": {
      "text/plain": [
       "array([['Hi.', 'Hallo!'],\n",
       "       ['Hi.', 'Grüß Gott!'],\n",
       "       ['Run!', 'Lauf!'],\n",
       "       ...,\n",
       "       ['Why is she hiding?', 'Warum versteckt sie sich?'],\n",
       "       ['Why is snow white?', 'Warum ist Schnee weiß?'],\n",
       "       [\"Why isn't it good?\", 'Warum ist es nicht gut?']], dtype='<U380')"
      ]
     },
     "execution_count": 6,
     "metadata": {},
     "output_type": "execute_result"
    }
   ],
   "source": [
    "deu_eng"
   ]
  },
  {
   "cell_type": "code",
   "execution_count": 7,
   "metadata": {},
   "outputs": [
    {
     "data": {
      "text/plain": [
       "array([['Hi', 'Hallo'],\n",
       "       ['Hi', 'Grüß Gott'],\n",
       "       ['Run', 'Lauf'],\n",
       "       ...,\n",
       "       ['Why is she hiding', 'Warum versteckt sie sich'],\n",
       "       ['Why is snow white', 'Warum ist Schnee weiß'],\n",
       "       ['Why isnt it good', 'Warum ist es nicht gut']], dtype='<U380')"
      ]
     },
     "execution_count": 7,
     "metadata": {},
     "output_type": "execute_result"
    }
   ],
   "source": [
    "deu_eng[:,0] = [s.translate(str.maketrans('', '', string.punctuation)) for s in deu_eng[:,0]]\n",
    "deu_eng[:,1] = [s.translate(str.maketrans('', '', string.punctuation)) for s in deu_eng[:,1]]\n",
    "\n",
    "deu_eng"
   ]
  },
  {
   "cell_type": "code",
   "execution_count": 8,
   "metadata": {},
   "outputs": [
    {
     "data": {
      "text/plain": [
       "array([['hi', 'hallo'],\n",
       "       ['hi', 'grüß gott'],\n",
       "       ['run', 'lauf'],\n",
       "       ...,\n",
       "       ['why is she hiding', 'warum versteckt sie sich'],\n",
       "       ['why is snow white', 'warum ist schnee weiß'],\n",
       "       ['why isnt it good', 'warum ist es nicht gut']], dtype='<U380')"
      ]
     },
     "execution_count": 8,
     "metadata": {},
     "output_type": "execute_result"
    }
   ],
   "source": [
    "for i in range(len(deu_eng)):\n",
    "    deu_eng[i,0] = deu_eng[i,0].lower()\n",
    "    deu_eng[i,1] = deu_eng[i,1].lower()\n",
    "\n",
    "deu_eng"
   ]
  },
  {
   "cell_type": "code",
   "execution_count": 9,
   "metadata": {},
   "outputs": [
    {
     "data": {
      "image/png": "[encoded data removed]",
      "text/plain": [
       "<Figure size 432x288 with 2 Axes>"
      ]
     },
     "metadata": {
      "needs_background": "light"
     },
     "output_type": "display_data"
    }
   ],
   "source": [
    "eng_l = []\n",
    "deu_l = []\n",
    "\n",
    "# populate the lists with sentence lengths\n",
    "for i in deu_eng[:,0]:\n",
    "      eng_l.append(len(i.split()))\n",
    "\n",
    "for i in deu_eng[:,1]:\n",
    "      deu_l.append(len(i.split()))\n",
    "\n",
    "length_df = pd.DataFrame({'eng':eng_l, 'deu':deu_l})\n",
    "\n",
    "length_df.hist(bins = 30)\n",
    "plt.show()"
   ]
  },
  {
   "cell_type": "code",
   "execution_count": 10,
   "metadata": {},
   "outputs": [],
   "source": [
    "def tokenization(lines):\n",
    "      tokenizer = Tokenizer()\n",
    "      tokenizer.fit_on_texts(lines)\n",
    "      return tokenizer"
   ]
  },
  {
   "cell_type": "code",
   "execution_count": 11,
   "metadata": {},
   "outputs": [
    {
     "name": "stdout",
     "output_type": "stream",
     "text": [
      "English Vocabulary Size: 3822\n"
     ]
    }
   ],
   "source": [
    "eng_tokenizer = tokenization(deu_eng[:, 0])\n",
    "eng_vocab_size = len(eng_tokenizer.word_index) + 1\n",
    "\n",
    "eng_length = 8\n",
    "print('English Vocabulary Size: %d' % eng_vocab_size)"
   ]
  },
  {
   "cell_type": "code",
   "execution_count": 12,
   "metadata": {},
   "outputs": [
    {
     "name": "stdout",
     "output_type": "stream",
     "text": [
      "Deutch Vocabulary Size: 5938\n"
     ]
    }
   ],
   "source": [
    "deu_tokenizer = tokenization(deu_eng[:, 1])\n",
    "deu_vocab_size = len(deu_tokenizer.word_index) + 1\n",
    "\n",
    "deu_length = 8\n",
    "print('Deutch Vocabulary Size: %d' % deu_vocab_size)"
   ]
  },
  {
   "cell_type": "code",
   "execution_count": 13,
   "metadata": {},
   "outputs": [],
   "source": [
    "def encode_sequences(tokenizer, length, lines):\n",
    "         # integer encode sequences\n",
    "         seq = tokenizer.texts_to_sequences(lines)\n",
    "         # pad sequences with 0 values\n",
    "         seq = pad_sequences(seq, maxlen=length, padding='post')\n",
    "         return seq"
   ]
  },
  {
   "cell_type": "code",
   "execution_count": 14,
   "metadata": {},
   "outputs": [],
   "source": [
    "from sklearn.model_selection import train_test_split\n",
    "\n",
    "# split data into train and test set\n",
    "train, test = train_test_split(deu_eng, test_size=0.2, random_state = 12)"
   ]
  },
  {
   "cell_type": "code",
   "execution_count": 15,
   "metadata": {},
   "outputs": [],
   "source": [
    "trainX = encode_sequences(deu_tokenizer, deu_length, train[:, 1])\n",
    "trainY = encode_sequences(eng_tokenizer, eng_length, train[:, 0])\n",
    "\n",
    "# prepare validation data\n",
    "testX = encode_sequences(deu_tokenizer, deu_length, test[:, 1])\n",
    "testY = encode_sequences(eng_tokenizer, eng_length, test[:, 0])"
   ]
  },
  {
   "cell_type": "code",
   "execution_count": 16,
   "metadata": {},
   "outputs": [],
   "source": [
    "def define_model(in_vocab,out_vocab, in_timesteps,out_timesteps,units):\n",
    "      model = Sequential()\n",
    "      model.add(Embedding(in_vocab, units, input_length=in_timesteps, mask_zero=True))\n",
    "      model.add(LSTM(units))\n",
    "      model.add(RepeatVector(out_timesteps))\n",
    "      model.add(LSTM(units, return_sequences=True))\n",
    "      model.add(Dense(out_vocab, activation='softmax'))\n",
    "      return model"
   ]
  },
  {
   "cell_type": "code",
   "execution_count": 17,
   "metadata": {},
   "outputs": [],
   "source": [
    "model = define_model(deu_vocab_size, eng_vocab_size, deu_length, eng_length, 512)"
   ]
  },
  {
   "cell_type": "code",
   "execution_count": 18,
   "metadata": {},
   "outputs": [],
   "source": [
    "rms = optimizers.RMSprop(lr=0.001,rho=0.8)\n",
    "model.compile(optimizer=rms, loss='sparse_categorical_crossentropy')"
   ]
  },
  {
   "cell_type": "code",
   "execution_count": 19,
   "metadata": {},
   "outputs": [
    {
     "name": "stdout",
     "output_type": "stream",
     "text": [
      "Train on 12800 samples, validate on 3200 samples\n",
      "Epoch 1/30\n",
      "12800/12800 [==============================] - 113s 9ms/step - loss: 3.7857 - val_loss: 2.7134\n",
      "\n",
      "Epoch 00001: val_loss improved from inf to 2.71338, saving model to model_file\n",
      "Epoch 2/30\n",
      "12800/12800 [==============================] - 109s 8ms/step - loss: 2.5995 - val_loss: 2.5364\n",
      "\n",
      "Epoch 00002: val_loss improved from 2.71338 to 2.53642, saving model to model_file\n",
      "Epoch 3/30\n",
      "12800/12800 [==============================] - 109s 9ms/step - loss: 2.4402 - val_loss: 2.4930\n",
      "\n",
      "Epoch 00003: val_loss improved from 2.53642 to 2.49302, saving model to model_file\n",
      "Epoch 4/30\n",
      "12800/12800 [==============================] - 106s 8ms/step - loss: 2.3658 - val_loss: 2.3894\n",
      "\n",
      "Epoch 00004: val_loss improved from 2.49302 to 2.38938, saving model to model_file\n",
      "Epoch 5/30\n",
      "12800/12800 [==============================] - 113s 9ms/step - loss: 2.2926 - val_loss: 2.3501\n",
      "\n",
      "Epoch 00005: val_loss improved from 2.38938 to 2.35008, saving model to model_file\n",
      "Epoch 6/30\n",
      "12800/12800 [==============================] - 101s 8ms/step - loss: 2.2102 - val_loss: 2.2682\n",
      "\n",
      "Epoch 00006: val_loss improved from 2.35008 to 2.26817, saving model to model_file\n",
      "Epoch 7/30\n",
      "12800/12800 [==============================] - 101s 8ms/step - loss: 2.1343 - val_loss: 2.2371\n",
      "\n",
      "Epoch 00007: val_loss improved from 2.26817 to 2.23706, saving model to model_file\n",
      "Epoch 8/30\n",
      "12800/12800 [==============================] - 104s 8ms/step - loss: 2.0557 - val_loss: 2.1529\n",
      "\n",
      "Epoch 00008: val_loss improved from 2.23706 to 2.15285, saving model to model_file\n",
      "Epoch 9/30\n",
      "12800/12800 [==============================] - 103s 8ms/step - loss: 1.9800 - val_loss: 2.0835\n",
      "\n",
      "Epoch 00009: val_loss improved from 2.15285 to 2.08354, saving model to model_file\n",
      "Epoch 10/30\n",
      "12800/12800 [==============================] - 99s 8ms/step - loss: 1.9117 - val_loss: 2.0560\n",
      "\n",
      "Epoch 00010: val_loss improved from 2.08354 to 2.05598, saving model to model_file\n",
      "Epoch 11/30\n",
      "12800/12800 [==============================] - 99s 8ms/step - loss: 1.8431 - val_loss: 2.0138\n",
      "\n",
      "Epoch 00011: val_loss improved from 2.05598 to 2.01380, saving model to model_file\n",
      "Epoch 12/30\n",
      "12800/12800 [==============================] - 107s 8ms/step - loss: 1.7757 - val_loss: 1.9792\n",
      "\n",
      "Epoch 00012: val_loss improved from 2.01380 to 1.97918, saving model to model_file\n",
      "Epoch 13/30\n",
      "12800/12800 [==============================] - 103s 8ms/step - loss: 1.7124 - val_loss: 1.9146\n",
      "\n",
      "Epoch 00013: val_loss improved from 1.97918 to 1.91456, saving model to model_file\n",
      "Epoch 14/30\n",
      "12800/12800 [==============================] - 105s 8ms/step - loss: 1.6518 - val_loss: 1.8853\n",
      "\n",
      "Epoch 00014: val_loss improved from 1.91456 to 1.88527, saving model to model_file\n",
      "Epoch 15/30\n",
      "12800/12800 [==============================] - 108s 8ms/step - loss: 1.5928 - val_loss: 1.8561\n",
      "\n",
      "Epoch 00015: val_loss improved from 1.88527 to 1.85614, saving model to model_file\n",
      "Epoch 16/30\n",
      "12800/12800 [==============================] - 107s 8ms/step - loss: 1.5362 - val_loss: 1.8080\n",
      "\n",
      "Epoch 00016: val_loss improved from 1.85614 to 1.80802, saving model to model_file\n",
      "Epoch 17/30\n",
      "12800/12800 [==============================] - 108s 8ms/step - loss: 1.4796 - val_loss: 1.7740\n",
      "\n",
      "Epoch 00017: val_loss improved from 1.80802 to 1.77398, saving model to model_file\n",
      "Epoch 18/30\n",
      "12800/12800 [==============================] - 107s 8ms/step - loss: 1.4240 - val_loss: 1.7563\n",
      "\n",
      "Epoch 00018: val_loss improved from 1.77398 to 1.75633, saving model to model_file\n",
      "Epoch 19/30\n",
      "12800/12800 [==============================] - 114s 9ms/step - loss: 1.3741 - val_loss: 1.7350\n",
      "\n",
      "Epoch 00019: val_loss improved from 1.75633 to 1.73496, saving model to model_file\n",
      "Epoch 20/30\n",
      "12800/12800 [==============================] - 118s 9ms/step - loss: 1.3224 - val_loss: 1.6912\n",
      "\n",
      "Epoch 00020: val_loss improved from 1.73496 to 1.69124, saving model to model_file\n",
      "Epoch 21/30\n",
      "12800/12800 [==============================] - 100s 8ms/step - loss: 1.2725 - val_loss: 1.6644\n",
      "\n",
      "Epoch 00021: val_loss improved from 1.69124 to 1.66444, saving model to model_file\n",
      "Epoch 22/30\n",
      "12800/12800 [==============================] - 102s 8ms/step - loss: 1.2261 - val_loss: 1.6606\n",
      "\n",
      "Epoch 00022: val_loss improved from 1.66444 to 1.66061, saving model to model_file\n",
      "Epoch 23/30\n",
      "12800/12800 [==============================] - 103s 8ms/step - loss: 1.1775 - val_loss: 1.6365\n",
      "\n",
      "Epoch 00023: val_loss improved from 1.66061 to 1.63652, saving model to model_file\n",
      "Epoch 24/30\n",
      "12800/12800 [==============================] - 100s 8ms/step - loss: 1.1353 - val_loss: 1.6029\n",
      "\n",
      "Epoch 00024: val_loss improved from 1.63652 to 1.60286, saving model to model_file\n",
      "Epoch 25/30\n",
      "12800/12800 [==============================] - 110s 9ms/step - loss: 1.0925 - val_loss: 1.5724\n",
      "\n",
      "Epoch 00025: val_loss improved from 1.60286 to 1.57243, saving model to model_file\n",
      "Epoch 26/30\n",
      "12800/12800 [==============================] - 101s 8ms/step - loss: 1.0503 - val_loss: 1.5580\n",
      "\n",
      "Epoch 00026: val_loss improved from 1.57243 to 1.55801, saving model to model_file\n",
      "Epoch 27/30\n",
      "12800/12800 [==============================] - 101s 8ms/step - loss: 1.0095 - val_loss: 1.5465\n",
      "\n",
      "Epoch 00027: val_loss improved from 1.55801 to 1.54646, saving model to model_file\n",
      "Epoch 28/30\n",
      "12800/12800 [==============================] - 106s 8ms/step - loss: 0.9681 - val_loss: 1.5319\n",
      "\n",
      "Epoch 00028: val_loss improved from 1.54646 to 1.53194, saving model to model_file\n",
      "Epoch 29/30\n",
      "12800/12800 [==============================] - 103s 8ms/step - loss: 0.9309 - val_loss: 1.5174\n",
      "\n",
      "Epoch 00029: val_loss improved from 1.53194 to 1.51744, saving model to model_file\n",
      "Epoch 30/30\n",
      "12800/12800 [==============================] - 106s 8ms/step - loss: 0.8941 - val_loss: 1.5076\n",
      "\n",
      "Epoch 00030: val_loss improved from 1.51744 to 1.50759, saving model to model_file\n"
     ]
    }
   ],
   "source": [
    "filename = 'model_file'\n",
    "checkpoint = ModelCheckpoint(filename, monitor='val_loss', verbose=1, save_best_only=True, mode='min')\n",
    "\n",
    "# train model\n",
    "history = model.fit(trainX, trainY.reshape(trainY.shape[0], trainY.shape[1], 1),\n",
    "                    epochs=30, batch_size=512, validation_split = 0.2,callbacks=[checkpoint], \n",
    "                    verbose=1)"
   ]
  },
  {
   "cell_type": "code",
   "execution_count": 20,
   "metadata": {},
   "outputs": [
    {
     "data": {
      "image/png": "[encoded data removed]",
      "text/plain": [
       "<Figure size 432x288 with 1 Axes>"
      ]
     },
     "metadata": {
      "needs_background": "light"
     },
     "output_type": "display_data"
    }
   ],
   "source": [
    "plt.plot(history.history['loss'])\n",
    "plt.plot(history.history['val_loss'])\n",
    "plt.legend(['train','validation'])\n",
    "plt.show()"
   ]
  },
  {
   "cell_type": "code",
   "execution_count": 21,
   "metadata": {},
   "outputs": [],
   "source": [
    "model = load_model('model_file')\n",
    "preds = model.predict_classes(testX.reshape((testX.shape[0],testX.shape[1])))"
   ]
  },
  {
   "cell_type": "code",
   "execution_count": 22,
   "metadata": {},
   "outputs": [],
   "source": [
    "def get_word(n, tokenizer):\n",
    "    for word, index in tokenizer.word_index.items():\n",
    "        if index == n:\n",
    "            return word\n",
    "    return None"
   ]
  },
  {
   "cell_type": "code",
   "execution_count": 23,
   "metadata": {},
   "outputs": [],
   "source": [
    "preds_text = []\n",
    "for i in preds:\n",
    "       temp = []\n",
    "       for j in range(len(i)):\n",
    "            t = get_word(i[j], eng_tokenizer)\n",
    "            if j > 0:\n",
    "                if (t == get_word(i[j-1], eng_tokenizer)) or (t == None):\n",
    "                     temp.append('')\n",
    "                else:\n",
    "                     temp.append(t)\n",
    "            else:\n",
    "                   if(t == None):\n",
    "                          temp.append('')\n",
    "                   else:\n",
    "                          temp.append(t) \n",
    "\n",
    "       preds_text.append(' '.join(temp))"
   ]
  },
  {
   "cell_type": "code",
   "execution_count": 24,
   "metadata": {},
   "outputs": [],
   "source": [
    "pred_df = pd.DataFrame({'actual' : test[:,0],'German':test[:,1] ,'predicted' : preds_text})"
   ]
  },
  {
   "cell_type": "code",
   "execution_count": 25,
   "metadata": {},
   "outputs": [
    {
     "data": {
      "text/html": [
       "<div>\n",
       "<style scoped>\n",
       "    .dataframe tbody tr th:only-of-type {\n",
       "        vertical-align: middle;\n",
       "    }\n",
       "\n",
       "    .dataframe tbody tr th {\n",
       "        vertical-align: top;\n",
       "    }\n",
       "\n",
       "    .dataframe thead th {\n",
       "        text-align: right;\n",
       "    }\n",
       "</style>\n",
       "<table border=\"1\" class=\"dataframe\">\n",
       "  <thead>\n",
       "    <tr style=\"text-align: right;\">\n",
       "      <th></th>\n",
       "      <th>German</th>\n",
       "      <th>actual</th>\n",
       "      <th>predicted</th>\n",
       "    </tr>\n",
       "  </thead>\n",
       "  <tbody>\n",
       "    <tr>\n",
       "      <th>3651</th>\n",
       "      <td>tom wurde ruhig</td>\n",
       "      <td>tom became calm</td>\n",
       "      <td>tom stayed upset</td>\n",
       "    </tr>\n",
       "    <tr>\n",
       "      <th>2873</th>\n",
       "      <td>möchten sie hier essen</td>\n",
       "      <td>is it for here</td>\n",
       "      <td>do you want here</td>\n",
       "    </tr>\n",
       "    <tr>\n",
       "      <th>375</th>\n",
       "      <td>ich mache mit</td>\n",
       "      <td>ill join you</td>\n",
       "      <td>i go you</td>\n",
       "    </tr>\n",
       "    <tr>\n",
       "      <th>1662</th>\n",
       "      <td>tom eilte davon</td>\n",
       "      <td>tom hurried away</td>\n",
       "      <td>tom believes off</td>\n",
       "    </tr>\n",
       "    <tr>\n",
       "      <th>264</th>\n",
       "      <td>glaubt ihr das</td>\n",
       "      <td>do you think so</td>\n",
       "      <td>do it do</td>\n",
       "    </tr>\n",
       "    <tr>\n",
       "      <th>1128</th>\n",
       "      <td>versuchen sie es noch einmal</td>\n",
       "      <td>try it again</td>\n",
       "      <td>try it again</td>\n",
       "    </tr>\n",
       "    <tr>\n",
       "      <th>2105</th>\n",
       "      <td>tom war stark</td>\n",
       "      <td>tom was strong</td>\n",
       "      <td>tom was hungry</td>\n",
       "    </tr>\n",
       "    <tr>\n",
       "      <th>1369</th>\n",
       "      <td>tom ist klug</td>\n",
       "      <td>tom is clever</td>\n",
       "      <td>tom is</td>\n",
       "    </tr>\n",
       "    <tr>\n",
       "      <th>3807</th>\n",
       "      <td>ich kann sprechen</td>\n",
       "      <td>im able to speak</td>\n",
       "      <td>i can go</td>\n",
       "    </tr>\n",
       "    <tr>\n",
       "      <th>2343</th>\n",
       "      <td>das habe ich nicht so gemeint</td>\n",
       "      <td>i didnt mean it</td>\n",
       "      <td>i dont be</td>\n",
       "    </tr>\n",
       "    <tr>\n",
       "      <th>2516</th>\n",
       "      <td>heute ist nicht mein tag</td>\n",
       "      <td>it is not my day</td>\n",
       "      <td>its not my</td>\n",
       "    </tr>\n",
       "    <tr>\n",
       "      <th>860</th>\n",
       "      <td>er ist ein höflicher junge</td>\n",
       "      <td>he is a kind boy</td>\n",
       "      <td>hes a  boy</td>\n",
       "    </tr>\n",
       "    <tr>\n",
       "      <th>1266</th>\n",
       "      <td>tom braucht hilfe</td>\n",
       "      <td>tom needs help</td>\n",
       "      <td>tom knows help</td>\n",
       "    </tr>\n",
       "    <tr>\n",
       "      <th>2829</th>\n",
       "      <td>verdufte</td>\n",
       "      <td>get lost</td>\n",
       "      <td>go away</td>\n",
       "    </tr>\n",
       "    <tr>\n",
       "      <th>2347</th>\n",
       "      <td>tom gab befehle</td>\n",
       "      <td>tom gave orders</td>\n",
       "      <td>tom has in</td>\n",
       "    </tr>\n",
       "  </tbody>\n",
       "</table>\n",
       "</div>"
      ],
      "text/plain": [
       "                             German            actual              predicted\n",
       "3651                tom wurde ruhig   tom became calm  tom stayed upset     \n",
       "2873         möchten sie hier essen    is it for here   do you want here    \n",
       "375                   ich mache mit      ill join you          i go you     \n",
       "1662                tom eilte davon  tom hurried away  tom believes off     \n",
       "264                  glaubt ihr das   do you think so          do it do     \n",
       "1128   versuchen sie es noch einmal      try it again      try it again     \n",
       "2105                  tom war stark    tom was strong    tom was hungry     \n",
       "1369                   tom ist klug     tom is clever           tom is      \n",
       "3807              ich kann sprechen  im able to speak          i can go     \n",
       "2343  das habe ich nicht so gemeint   i didnt mean it         i dont be     \n",
       "2516       heute ist nicht mein tag  it is not my day        its not my     \n",
       "860      er ist ein höflicher junge  he is a kind boy         hes a  boy    \n",
       "1266              tom braucht hilfe    tom needs help    tom knows help     \n",
       "2829                       verdufte          get lost          go away      \n",
       "2347                tom gab befehle   tom gave orders        tom has in     "
      ]
     },
     "execution_count": 25,
     "metadata": {},
     "output_type": "execute_result"
    }
   ],
   "source": [
    "pred_df.sample(15)"
   ]
  }
 ],
 "metadata": {
  "kernelspec": {
   "display_name": "Python 3",
   "language": "python",
   "name": "python3"
  },
  "language_info": {
   "codemirror_mode": {
    "name": "ipython",
    "version": 3
   },
   "file_extension": ".py",
   "mimetype": "text/x-python",
   "name": "python",
   "nbconvert_exporter": "python",
   "pygments_lexer": "ipython3",
   "version": "3.5.2"
  }
 },
 "nbformat": 4,
 "nbformat_minor": 2
}
